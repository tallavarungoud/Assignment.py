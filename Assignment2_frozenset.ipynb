{
  "nbformat": 4,
  "nbformat_minor": 0,
  "metadata": {
    "colab": {
      "provenance": []
    },
    "kernelspec": {
      "name": "python3",
      "display_name": "Python 3"
    },
    "language_info": {
      "name": "python"
    }
  },
  "cells": [
    {
      "cell_type": "code",
      "execution_count": null,
      "metadata": {
        "id": "mzO7eURbt474"
      },
      "outputs": [],
      "source": []
    },
    {
      "cell_type": "markdown",
      "source": [
        "frozenset in list"
      ],
      "metadata": {
        "id": "a1TA5mtrxHL_"
      }
    },
    {
      "cell_type": "code",
      "source": [
        "l = [\"Varun\", \"Rgit\", \"Varun\"]\n",
        "\n",
        "# converting tuple to frozenset\n",
        "fnum = frozenset(l)\n",
        "\n",
        "# printing empty frozenset object\n",
        "print(\"frozenset Object is : \", fnum)\n"
      ],
      "metadata": {
        "colab": {
          "base_uri": "https://localhost:8080/"
        },
        "id": "e8S9TRdzxbtv",
        "outputId": "caf6c946-fd1b-4bae-da19-0471f9a02c42"
      },
      "execution_count": null,
      "outputs": [
        {
          "output_type": "stream",
          "name": "stdout",
          "text": [
            "frozenset Object is :  frozenset({'Rgit', 'Varun'})\n"
          ]
        }
      ]
    },
    {
      "cell_type": "markdown",
      "source": [
        "frozenset in dictonery"
      ],
      "metadata": {
        "id": "0BroLUO4ymgT"
      }
    },
    {
      "cell_type": "code",
      "source": [
        "# creating a dictionary\n",
        "Student = {\"name\": \"Varun\", \"age\": 19, \"sex\": \"male\",\n",
        "\t\t\"college\": \"RGIT\", \"address\": \"virar\"}\n",
        "\n",
        "# making keys of dictionary as frozenset\n",
        "key = frozenset(Student)\n",
        "\n",
        "# printing dict keys as frozenset\n",
        "print('The frozen set is:', key)\n"
      ],
      "metadata": {
        "colab": {
          "base_uri": "https://localhost:8080/"
        },
        "id": "pFy6dB86yqBC",
        "outputId": "b47c1598-5754-42b0-9699-a1511562b4e1"
      },
      "execution_count": null,
      "outputs": [
        {
          "output_type": "stream",
          "name": "stdout",
          "text": [
            "The frozen set is: frozenset({'age', 'college', 'address', 'sex', 'name'})\n"
          ]
        }
      ]
    }
  ]
}
